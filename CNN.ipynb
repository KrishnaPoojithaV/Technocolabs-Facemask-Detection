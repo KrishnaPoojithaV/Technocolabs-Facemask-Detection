{
 "cells": [
  {
   "cell_type": "code",
   "execution_count": 1,
   "metadata": {},
   "outputs": [],
   "source": [
    "import numpy as np"
   ]
  },
  {
   "cell_type": "code",
   "execution_count": 2,
   "metadata": {},
   "outputs": [],
   "source": [
    "data = np.load('data.npy')\n",
    "target = np.load('target.npy')"
   ]
  },
  {
   "cell_type": "code",
   "execution_count": 3,
   "metadata": {},
   "outputs": [],
   "source": [
    "from keras.models import Sequential\n",
    "from keras.layers import Dense,Activation,Flatten,Dropout\n",
    "from keras.layers import Conv2D,MaxPooling2D\n",
    "from keras.callbacks import ModelCheckpoint"
   ]
  },
  {
   "cell_type": "code",
   "execution_count": 4,
   "metadata": {},
   "outputs": [],
   "source": [
    "model = Sequential()"
   ]
  },
  {
   "cell_type": "code",
   "execution_count": 5,
   "metadata": {},
   "outputs": [],
   "source": [
    "model.add(Conv2D(200,(3,3),input_shape = data.shape[1:]))\n",
    "model.add(Activation('relu'))\n",
    "model.add(MaxPooling2D(pool_size=(2,2)))\n",
    "\n",
    "model.add(Conv2D(100,(3,3)))\n",
    "model.add(Activation('relu'))\n",
    "model.add(MaxPooling2D(pool_size=(2,2)))\n",
    "\n",
    "model.add(Flatten())\n",
    "model.add(Dropout(0.5))\n",
    "\n",
    "model.add(Dense(50,activation='relu'))\n",
    "model.add(Dense(2,activation='softmax'))\n",
    "\n",
    "model.compile(loss='categorical_crossentropy',optimizer='adam',metrics=['accuracy'])"
   ]
  },
  {
   "cell_type": "code",
   "execution_count": 6,
   "metadata": {},
   "outputs": [],
   "source": [
    "from sklearn.model_selection import train_test_split"
   ]
  },
  {
   "cell_type": "code",
   "execution_count": 7,
   "metadata": {},
   "outputs": [],
   "source": [
    "train_data, test_data, train_target, test_target = train_test_split(data, target, test_size=0.1)"
   ]
  },
  {
   "cell_type": "code",
   "execution_count": 8,
   "metadata": {},
   "outputs": [
    {
     "name": "stdout",
     "output_type": "stream",
     "text": [
      "Train on 990 samples, validate on 248 samples\n",
      "Epoch 1/20\n",
      "990/990 [==============================] - 55s 55ms/step - loss: 0.7126 - accuracy: 0.5667 - val_loss: 0.6032 - val_accuracy: 0.6734\n",
      "Epoch 2/20\n",
      "990/990 [==============================] - 50s 51ms/step - loss: 0.5164 - accuracy: 0.7545 - val_loss: 0.4333 - val_accuracy: 0.8266\n",
      "Epoch 3/20\n",
      "990/990 [==============================] - 51s 52ms/step - loss: 0.3500 - accuracy: 0.8535 - val_loss: 0.3248 - val_accuracy: 0.8710\n",
      "Epoch 4/20\n",
      "990/990 [==============================] - 51s 51ms/step - loss: 0.2191 - accuracy: 0.9141 - val_loss: 0.2966 - val_accuracy: 0.8790\n",
      "Epoch 5/20\n",
      "990/990 [==============================] - 51s 52ms/step - loss: 0.1701 - accuracy: 0.9364 - val_loss: 0.2183 - val_accuracy: 0.9194\n",
      "Epoch 6/20\n",
      "990/990 [==============================] - 50s 51ms/step - loss: 0.1332 - accuracy: 0.9626 - val_loss: 0.2154 - val_accuracy: 0.8952\n",
      "Epoch 7/20\n",
      "990/990 [==============================] - 51s 51ms/step - loss: 0.1304 - accuracy: 0.9535 - val_loss: 0.2078 - val_accuracy: 0.9274\n",
      "Epoch 8/20\n",
      "990/990 [==============================] - 51s 51ms/step - loss: 0.0977 - accuracy: 0.9687 - val_loss: 0.1733 - val_accuracy: 0.9355\n",
      "Epoch 9/20\n",
      "990/990 [==============================] - 64s 65ms/step - loss: 0.0599 - accuracy: 0.9808 - val_loss: 0.1940 - val_accuracy: 0.9234\n",
      "Epoch 10/20\n",
      "990/990 [==============================] - 66s 67ms/step - loss: 0.0528 - accuracy: 0.9828 - val_loss: 0.1422 - val_accuracy: 0.9355\n",
      "Epoch 11/20\n",
      "990/990 [==============================] - 66s 67ms/step - loss: 0.0394 - accuracy: 0.9859 - val_loss: 0.1540 - val_accuracy: 0.9395\n",
      "Epoch 12/20\n",
      "990/990 [==============================] - 67s 68ms/step - loss: 0.0530 - accuracy: 0.9818 - val_loss: 0.2394 - val_accuracy: 0.9355\n",
      "Epoch 13/20\n",
      "990/990 [==============================] - 67s 68ms/step - loss: 0.0438 - accuracy: 0.9838 - val_loss: 0.1615 - val_accuracy: 0.9476\n",
      "Epoch 14/20\n",
      "990/990 [==============================] - 66s 67ms/step - loss: 0.0436 - accuracy: 0.9859 - val_loss: 0.1582 - val_accuracy: 0.9476\n",
      "Epoch 15/20\n",
      "990/990 [==============================] - 66s 67ms/step - loss: 0.0285 - accuracy: 0.9899 - val_loss: 0.1792 - val_accuracy: 0.9315\n",
      "Epoch 16/20\n",
      "990/990 [==============================] - 66s 67ms/step - loss: 0.0335 - accuracy: 0.9848 - val_loss: 0.1300 - val_accuracy: 0.9516\n",
      "Epoch 17/20\n",
      "990/990 [==============================] - 67s 68ms/step - loss: 0.0256 - accuracy: 0.9899 - val_loss: 0.2075 - val_accuracy: 0.9435\n",
      "Epoch 18/20\n",
      "990/990 [==============================] - 66s 67ms/step - loss: 0.0197 - accuracy: 0.9939 - val_loss: 0.1469 - val_accuracy: 0.9516\n",
      "Epoch 19/20\n",
      "990/990 [==============================] - 66s 67ms/step - loss: 0.0299 - accuracy: 0.9909 - val_loss: 0.1798 - val_accuracy: 0.9435\n",
      "Epoch 20/20\n",
      "990/990 [==============================] - 67s 67ms/step - loss: 0.0188 - accuracy: 0.9939 - val_loss: 0.3499 - val_accuracy: 0.9234\n"
     ]
    }
   ],
   "source": [
    "checkpoint = ModelCheckpoint('model-{epoch:03d}.model',monitor='val_loss',verbose=0, save_best_only=True, mode='auto')\n",
    "history = model.fit(train_data,train_target,epochs=20,callbacks=[checkpoint],validation_split=0.2)"
   ]
  },
  {
   "cell_type": "code",
   "execution_count": 9,
   "metadata": {},
   "outputs": [],
   "source": [
    "import matplotlib.pyplot as plt"
   ]
  },
  {
   "cell_type": "code",
   "execution_count": 10,
   "metadata": {},
   "outputs": [
    {
     "data": {
      "image/png": "[encoded data removed]",
      "text/plain": [
       "<Figure size 432x288 with 1 Axes>"
      ]
     },
     "metadata": {
      "needs_background": "light"
     },
     "output_type": "display_data"
    }
   ],
   "source": [
    "plt.plot(history.history['loss'],'r',label='training_loss')\n",
    "plt.plot(history.history['val_loss'],'b',label='validation_loss')\n",
    "plt.xlabel('# epochs')\n",
    "plt.ylabel('loss')\n",
    "plt.legend()\n",
    "plt.show()"
   ]
  },
  {
   "cell_type": "code",
   "execution_count": 11,
   "metadata": {},
   "outputs": [
    {
     "data": {
      "image/png": "[encoded data removed]",
      "text/plain": [
       "<Figure size 432x288 with 1 Axes>"
      ]
     },
     "metadata": {
      "needs_background": "light"
     },
     "output_type": "display_data"
    }
   ],
   "source": [
    "plt.plot(history.history['accuracy'],'r',label='training_accuracy')\n",
    "plt.plot(history.history['val_accuracy'],'b',label='validation_accuracy')\n",
    "plt.xlabel('# epochs')\n",
    "plt.ylabel('accuracy')\n",
    "plt.legend()\n",
    "plt.show()"
   ]
  },
  {
   "cell_type": "code",
   "execution_count": 12,
   "metadata": {},
   "outputs": [
    {
     "name": "stdout",
     "output_type": "stream",
     "text": [
      "138/138 [==============================] - 3s 20ms/step\n",
      "[0.26609309427980066, 0.9347826242446899]\n"
     ]
    }
   ],
   "source": [
    "print(model.evaluate(test_data,test_target))"
   ]
  },
  {
   "cell_type": "code",
   "execution_count": null,
   "metadata": {},
   "outputs": [],
   "source": []
  }
 ],
 "metadata": {
  "kernelspec": {
   "display_name": "Python 3",
   "language": "python",
   "name": "python3"
  },
  "language_info": {
   "codemirror_mode": {
    "name": "ipython",
    "version": 3
   },
   "file_extension": ".py",
   "mimetype": "text/x-python",
   "name": "python",
   "nbconvert_exporter": "python",
   "pygments_lexer": "ipython3",
   "version": "3.7.7"
  }
 },
 "nbformat": 4,
 "nbformat_minor": 4
}
